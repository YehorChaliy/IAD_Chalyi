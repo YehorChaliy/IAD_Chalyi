{
 "cells": [
  {
   "cell_type": "code",
   "execution_count": null,
   "metadata": {},
   "outputs": [],
   "source": [
    "\n",
    "import pandas as pd\n",
    "import seaborn as sns\n",
    "import matplotlib.pyplot as plt\n",
    "\n",
    "data = pd.read_csv('Life Expectancy Data.csv')\n",
    "\n",
    "factors = [\n",
    "    'Country', 'Year', 'Status', 'Life expectancy ', 'Adult Mortality',\n",
    "    'infant deaths', 'Alcohol', 'percentage expenditure', 'Hepatitis B',\n",
    "    'Measles ', ' BMI ', 'under-five deaths ', 'Polio', 'Total expenditure',\n",
    "    'Diphtheria ', ' HIV/AIDS', 'GDP', 'Population',\n",
    "    ' thinness  1-19 years', ' thinness 5-9 years',\n",
    "    'Income composition of resources', 'Schooling'\n",
    "]\n",
    "\n",
    "for factor in factors:\n",
    "    sns.histplot(data=data, x=factor, kde=True)\n",
    "    sns.rugplot(data=data, x=factor)\n",
    "    plt.title(f'Розподіл фактора \"{factor}\" з доданням rugplot')\n",
    "    plt.xlabel(f'Значення фактора \"{factor}\"')\n",
    "    plt.ylabel('Частота')\n",
    "    plt.show()\n",
    "\n",
    "\n",
    "for factor in factors:\n",
    "    sns.boxplot(x=factor, data=data) \n",
    "    plt.title(f'Розподіл фактора \"{factor}\" з використанням boxplot')\n",
    "    plt.xlabel(f'Значення фактора \"{factor}\"')\n",
    "    plt.show()\n",
    "\n"
   ]
  },
  {
   "cell_type": "code",
   "execution_count": null,
   "metadata": {},
   "outputs": [],
   "source": [
    "import pandas as pd\n",
    "\n",
    "data = pd.read_csv('Life Expectancy Data.csv')\n",
    "\n",
    "sorted_factors = [\n",
    "    'Year', 'Life expectancy ', 'Adult Mortality',\n",
    "    'infant deaths', 'Alcohol', 'percentage expenditure', 'Hepatitis B',\n",
    "    'Measles ', ' BMI ', 'under-five deaths ', 'Polio', 'Total expenditure',\n",
    "    'Diphtheria ', ' HIV/AIDS', 'GDP', 'Population',\n",
    "    ' thinness  1-19 years', ' thinness 5-9 years',\n",
    "    'Income composition of resources', 'Schooling'\n",
    "]\n",
    "\n",
    "variances = data[sorted_factors].var()\n",
    "covariances = data[sorted_factors].cov()\n",
    "correlations = data[sorted_factors].corr()\n",
    "\n",
    "print(\"Дисперсія:\")\n",
    "for factor, variance in variances.items():\n",
    "    print(f\"{factor}: {variance}\")\n",
    "\n",
    "print(\"\\nКоваріація:\")\n",
    "print(covariances)\n",
    "\n",
    "print(\"\\nКореляція:\")\n",
    "print(correlations)"
   ]
  },
  {
   "cell_type": "code",
   "execution_count": null,
   "metadata": {},
   "outputs": [],
   "source": [
    "data = pd.read_csv('Life Expectancy Data.csv')\n",
    "\n",
    "numeric_data = data.select_dtypes(include=['float64', 'int64'])\n",
    "correlation_matrix = numeric_data.corr()\n",
    "\n",
    "plt.figure(figsize=(12, 10))\n",
    "sns.heatmap(correlation_matrix, annot=True, cmap='coolwarm', fmt=\".2f\")\n",
    "plt.title('Матриця кореляції')\n",
    "plt.show()"
   ]
  },
  {
   "cell_type": "code",
   "execution_count": null,
   "metadata": {},
   "outputs": [],
   "source": [
    "life_expectancy_corr = correlation_matrix['Life expectancy '].drop('Life expectancy ')\n",
    "high_correlation_factors = life_expectancy_corr[life_expectancy_corr >= 0.45]\n",
    "print(\"Найбільший вплив на тривалість життя мають такі фактори:\")\n",
    "for factor, correlation in high_correlation_factors.items():\n",
    "    print(f\"Фактор '{factor}' має кореляцію {correlation:.2f} з 'Life expectancy'\")"
   ]
  },
  {
   "cell_type": "code",
   "execution_count": null,
   "metadata": {},
   "outputs": [],
   "source": [
    "life_expectancy_low = data[data['Life expectancy '] < 65]\n",
    "correlation_with_expenditure = life_expectancy_low['Total expenditure'].corr(life_expectancy_low['Life expectancy '])\n",
    "\n",
    "if correlation_with_expenditure > 0.5:\n",
    "    print(\"Кореляція між витратами на охорону здоров’я та тривалістю життя меншою за 65 позитивна та висока.\")\n",
    "    print(\"Збільшення витрат на охорону здоров’я супроводжується збільшенням тривалості життя (<65).\")\n",
    "else:\n",
    "    print(\"Кореляція між витратами на охорону здоров’я та тривалістю життя меншою за 65 не є високою або позитивною.\")"
   ]
  },
  {
   "cell_type": "code",
   "execution_count": null,
   "metadata": {},
   "outputs": [],
   "source": [
    "correlation_infant_mortality = data['infant deaths'].corr(data['Life expectancy '])\n",
    "correlation_adult_mortality = data['Adult Mortality'].corr(data['Life expectancy '])\n",
    "\n",
    "if correlation_infant_mortality > 0.5:\n",
    "    print(f\"Рівень дитячої смертності суттєво впливає на тривалість життя: {correlation_infant_mortality}\")\n",
    "else:\n",
    "    print(f\"Рівень дитячої смертності не суттєво впливає на тривалість життя: {correlation_infant_mortality}\")\n",
    "if correlation_adult_mortality > 0.5:\n",
    "    print(f\"Рівень дорослої смертності суттєво впливає на тривалість життя: {correlation_adult_mortality}\")\n",
    "else:\n",
    "    print(f\"Рівень дорослої смертності не суттєво впливає на тривалість життя: {correlation_adult_mortality}\")"
   ]
  },
  {
   "cell_type": "code",
   "execution_count": null,
   "metadata": {},
   "outputs": [],
   "source": [
    "sorted_factors2 = [\n",
    "    'Year', 'Adult Mortality',\n",
    "    'infant deaths', 'Alcohol', 'percentage expenditure', 'Hepatitis B',\n",
    "    'Measles ', ' BMI ', 'under-five deaths ', 'Polio', 'Total expenditure',\n",
    "    'Diphtheria ', ' HIV/AIDS', 'GDP', 'Population',\n",
    "    ' thinness  1-19 years', ' thinness 5-9 years',\n",
    "    'Income composition of resources', 'Schooling'\n",
    "]\n",
    "for factor in sorted_factors2:\n",
    "    correlation = data[factor].corr(data['Life expectancy '])\n",
    "    print(f\"Кореляція між '{factor}' та 'Life expectancy': {correlation}\")\n",
    "    \n",
    "    if correlation > 0.5:\n",
    "        print(f\"Кореляція позитивна та висока, {factor} впливає на тривалість життя.\")\n",
    "    else:\n",
    "        print(f\"Кореляція не висока, {factor} не суттєво впливає на тривалість життя.\")\n",
    "    print()"
   ]
  },
  {
   "cell_type": "code",
   "execution_count": null,
   "metadata": {},
   "outputs": [],
   "source": [
    "correlation_schooling = data['Schooling'].corr(data['Life expectancy '])\n",
    "\n",
    "print(f\"Кореляція між 'Schooling' та 'Life expectancy': {correlation_schooling}\")\n",
    "\n",
    "if correlation_schooling > 0.5:\n",
    "    print(\"Кореляція позитивна та висока, навчання в школі впливає на тривалість життя.\")\n",
    "else:\n",
    "    print(\"Кореляція не висока, навчання в школі не впливає на тривалість життя.\")"
   ]
  },
  {
   "cell_type": "code",
   "execution_count": null,
   "metadata": {},
   "outputs": [],
   "source": [
    "correlation_alcohol = data['Alcohol'].corr(data['Life expectancy '])\n",
    "\n",
    "print(f\"Кореляція між 'Alcohol' та 'Life expectancy': {correlation_alcohol}\")\n",
    "\n",
    "if correlation_alcohol > 0:\n",
    "    print(\"Позитивний зв'язок між споживанням алкоголю та тривалістю життя.\")\n",
    "elif correlation_alcohol < 0:\n",
    "    print(\"Негативний зв'язок між споживанням алкоголю та тривалістю життя.\")\n",
    "else:\n",
    "    print(\"Немає вираженого зв'язку між споживанням алкоголю та тривалістю життя.\")"
   ]
  },
  {
   "cell_type": "code",
   "execution_count": null,
   "metadata": {},
   "outputs": [],
   "source": [
    "high_population_life_expectancy = data[data['Population'] > data['Population'].mean()]['Life expectancy '].mean()\n",
    "low_population_life_expectancy = data[data['Population'] < data['Population'].mean()]['Life expectancy '].mean()\n",
    "\n",
    "print(f\"Середня тривалість життя в країнах з великою чисельністю населення: {high_population_life_expectancy}\")\n",
    "print(f\"Середня тривалість життя в країнах з малою чисельністю населення: {low_population_life_expectancy}\")\n",
    "\n",
    "if high_population_life_expectancy < low_population_life_expectancy:\n",
    "    print(\"Зазвичай у густонаселених країнах тривалість життя нижча, ніж у малонаселених.\")\n",
    "else:\n",
    "    print(\"У густонаселених країнах зазвичай тривалість життя вища, ніж у малонаселених.\")"
   ]
  },
  {
   "cell_type": "code",
   "execution_count": null,
   "metadata": {},
   "outputs": [],
   "source": [
    "correlation_immunization_life_expectancy = data['Polio'].corr(data['Life expectancy '])\n",
    "\n",
    "if correlation_immunization_life_expectancy > 0:\n",
    "    print(\"Охоплення імунізацією має позитивний вплив на тривалість життя.\")\n",
    "    print(f\"Кореляція = {correlation_immunization_life_expectancy}\")\n",
    "else:\n",
    "    print(\"Охоплення імунізацією не має позитивного впливу на тривалість життя.\")\n",
    "    print(f\"Кореляція = {correlation_immunization_life_expectancy}\")"
   ]
  },
  {
   "cell_type": "code",
   "execution_count": null,
   "metadata": {},
   "outputs": [],
   "source": [
    "import seaborn as sns\n",
    "import pandas as pd\n",
    "\n",
    "selected_factors = [\n",
    "    'Life expectancy ', 'Adult Mortality', 'infant deaths',\n",
    "    'Alcohol', ' BMI ', 'Hepatitis B', 'Polio', 'Total expenditure',\n",
    "    'Diphtheria ', ' HIV/AIDS', 'GDP', 'Population',\n",
    "    'Income composition of resources', 'Schooling'\n",
    "]\n",
    "\n",
    "selected_data = data[selected_factors]\n",
    "correlation_matrix = selected_data.corr()\n",
    "\n",
    "plt.figure(figsize=(12, 10))\n",
    "heatmap = sns.heatmap(correlation_matrix, annot=True, cmap='coolwarm', fmt=\".2f\", annot_kws={\"size\": 8})\n",
    "plt.title('Кореляційна матриця впливу факторів та тривалості життя')\n",
    "plt.show()"
   ]
  }
 ],
 "metadata": {
  "kernelspec": {
   "display_name": "myenv3.10.12",
   "language": "python",
   "name": "python3"
  },
  "language_info": {
   "codemirror_mode": {
    "name": "ipython",
    "version": 3
   },
   "file_extension": ".py",
   "mimetype": "text/x-python",
   "name": "python",
   "nbconvert_exporter": "python",
   "pygments_lexer": "ipython3",
   "version": "3.10.12"
  }
 },
 "nbformat": 4,
 "nbformat_minor": 2
}
