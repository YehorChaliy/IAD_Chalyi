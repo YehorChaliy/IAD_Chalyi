{
 "cells": [
  {
   "cell_type": "markdown",
   "id": "f44a2f2b",
   "metadata": {},
   "source": [
    "# 100 numpy exercises\n",
    "\n",
    "This is a collection of exercises that have been collected in the numpy mailing list, on stack overflow\n",
    "and in the numpy documentation. The goal of this collection is to offer a quick reference for both old\n",
    "and new users but also to provide a set of exercises for those who teach."
   ]
  },
  {
   "cell_type": "markdown",
   "id": "96443564",
   "metadata": {},
   "source": [
    "#### 1. Import the numpy package under the name `np` (★☆☆)"
   ]
  },
  {
   "cell_type": "code",
   "execution_count": null,
   "id": "ffe1047e",
   "metadata": {},
   "outputs": [],
   "source": [
    "import numpy as np"
   ]
  },
  {
   "cell_type": "markdown",
   "id": "c807bf1d",
   "metadata": {},
   "source": [
    "#### 2. Print the numpy version and the configuration (★☆☆)"
   ]
  },
  {
   "cell_type": "code",
   "execution_count": null,
   "id": "f396b717",
   "metadata": {},
   "outputs": [],
   "source": [
    "print(\"NumPy version:\", np.__version__)\n",
    "print(\"NumPy configuration:\")\n",
    "print(np.show_config())"
   ]
  },
  {
   "cell_type": "markdown",
   "id": "572c1bdb",
   "metadata": {},
   "source": [
    "#### 3. Create a null vector of size 10 (★☆☆)"
   ]
  },
  {
   "cell_type": "code",
   "execution_count": null,
   "id": "31c9f6a5",
   "metadata": {},
   "outputs": [],
   "source": [
    "null_array = np.empty(10)"
   ]
  },
  {
   "cell_type": "markdown",
   "id": "337e6e36",
   "metadata": {},
   "source": [
    "#### 4. How to find the memory size of any array (★☆☆)"
   ]
  },
  {
   "cell_type": "code",
   "execution_count": null,
   "id": "31e8ec2e",
   "metadata": {},
   "outputs": [],
   "source": [
    "print(null_array.nbytes)"
   ]
  },
  {
   "cell_type": "markdown",
   "id": "166079c8",
   "metadata": {},
   "source": [
    "#### 5. How to get the documentation of the numpy add function from the command line? (★☆☆)"
   ]
  },
  {
   "cell_type": "code",
   "execution_count": null,
   "id": "593cd80f",
   "metadata": {},
   "outputs": [],
   "source": [
    "!pydoc numpy"
   ]
  },
  {
   "cell_type": "markdown",
   "id": "3add7101",
   "metadata": {},
   "source": [
    "#### 6. Create a null vector of size 10 but the fifth value which is 1 (★☆☆)"
   ]
  },
  {
   "cell_type": "code",
   "execution_count": null,
   "id": "2edf3c42",
   "metadata": {},
   "outputs": [],
   "source": [
    "null_vector = np.zeros(10)\n",
    "null_vector[4] = 1\n",
    "print(null_vector)"
   ]
  },
  {
   "cell_type": "markdown",
   "id": "cfc46304",
   "metadata": {},
   "source": [
    "#### 7. Create a vector with values ranging from 10 to 49 (★☆☆)"
   ]
  },
  {
   "cell_type": "code",
   "execution_count": null,
   "id": "d8b86640",
   "metadata": {},
   "outputs": [],
   "source": [
    "vector = np.arange(10, 50)\n",
    "print(vector)"
   ]
  },
  {
   "cell_type": "markdown",
   "id": "0cc200be",
   "metadata": {},
   "source": [
    "#### 8. Reverse a vector (first element becomes last) (★☆☆)"
   ]
  },
  {
   "cell_type": "code",
   "execution_count": null,
   "id": "ec044bb5",
   "metadata": {},
   "outputs": [],
   "source": [
    "reverse_vector = vector[::-1]\n",
    "print(reverse_vector)"
   ]
  },
  {
   "cell_type": "markdown",
   "id": "29d9ede4",
   "metadata": {},
   "source": [
    "#### 9. Create a 3x3 matrix with values ranging from 0 to 8 (★☆☆)"
   ]
  },
  {
   "cell_type": "code",
   "execution_count": null,
   "id": "d9e39043",
   "metadata": {},
   "outputs": [],
   "source": [
    "matrix = np.arange(0, 9).reshape(3, 3)\n",
    "print(matrix)"
   ]
  },
  {
   "cell_type": "markdown",
   "id": "88905ceb",
   "metadata": {},
   "source": [
    "#### 10. Find indices of non-zero elements from [1,2,0,0,4,0] (★☆☆)"
   ]
  },
  {
   "cell_type": "code",
   "execution_count": null,
   "id": "b2f3c90a",
   "metadata": {},
   "outputs": [],
   "source": [
    "array = np.array([1, 2, 0, 0, 4, 0])\n",
    "non_zero_indices = np.nonzero(array)\n",
    "print(\"Indices of non-zero elements:\", non_zero_indices)"
   ]
  },
  {
   "cell_type": "markdown",
   "id": "49603e91",
   "metadata": {},
   "source": [
    "#### 11. Create a 3x3 identity matrix (★☆☆)"
   ]
  },
  {
   "cell_type": "code",
   "execution_count": null,
   "id": "5b607b5c",
   "metadata": {},
   "outputs": [],
   "source": [
    "identity_matrix = np.eye(3)\n",
    "print(identity_matrix)"
   ]
  },
  {
   "cell_type": "markdown",
   "id": "e15c249a",
   "metadata": {},
   "source": [
    "#### 12. Create a 3x3x3 array with random values (★☆☆)"
   ]
  },
  {
   "cell_type": "code",
   "execution_count": null,
   "id": "ab21ed50",
   "metadata": {},
   "outputs": [],
   "source": [
    "array = np.random.rand(3, 3, 3)\n",
    "print(array)"
   ]
  },
  {
   "cell_type": "markdown",
   "id": "157a129c",
   "metadata": {},
   "source": [
    "#### 13. Create a 10x10 array with random values and find the minimum and maximum values (★☆☆)"
   ]
  },
  {
   "cell_type": "code",
   "execution_count": null,
   "id": "c0066de5",
   "metadata": {},
   "outputs": [],
   "source": [
    "array = np.random.rand(10, 10)\n",
    "min_value = array.min()\n",
    "max_value = array.max()\n",
    "print(array)\n",
    "print(\"Minimum value:\", min_value)\n",
    "print(\"Maximum value:\", max_value)"
   ]
  },
  {
   "cell_type": "markdown",
   "id": "d92d7b32",
   "metadata": {},
   "source": [
    "#### 14. Create a random vector of size 30 and find the mean value (★☆☆)"
   ]
  },
  {
   "cell_type": "code",
   "execution_count": null,
   "id": "9672d023",
   "metadata": {},
   "outputs": [],
   "source": [
    "random_vector = np.random.rand(30)\n",
    "mean_value = np.mean(random_vector)\n",
    "print(\"Random vector:\", random_vector)\n",
    "print(\"Mean value of the random vector:\", mean_value)"
   ]
  },
  {
   "cell_type": "markdown",
   "id": "f361efc0",
   "metadata": {},
   "source": [
    "#### 15. Create a 2d array with 1 on the border and 0 inside (★☆☆)"
   ]
  },
  {
   "cell_type": "code",
   "execution_count": null,
   "id": "a55b6666",
   "metadata": {},
   "outputs": [],
   "source": [
    "array = np.zeros((5, 5))\n",
    "array[0,:] = 1\n",
    "array[-1,:] = 1\n",
    "array[:,0] = 1\n",
    "array[:,-1] = 1\n",
    "print(array)"
   ]
  },
  {
   "cell_type": "markdown",
   "id": "475808cb",
   "metadata": {},
   "source": [
    "#### 16. How to add a border (filled with 0's) around an existing array? (★☆☆)"
   ]
  },
  {
   "cell_type": "code",
   "execution_count": null,
   "id": "b2df3a8a",
   "metadata": {},
   "outputs": [],
   "source": [
    "array = np.ones((5, 5))\n",
    "print(array)\n",
    "array_padded = np.pad(array, pad_width=1, mode='constant', constant_values=0)\n",
    "print()\n",
    "print(array_padded)"
   ]
  },
  {
   "cell_type": "markdown",
   "id": "1af07d85",
   "metadata": {},
   "source": [
    "#### 17. What is the result of the following expression? (★☆☆)\n",
    "```python\n",
    "0 * np.nan\n",
    "np.nan == np.nan\n",
    "np.inf > np.nan\n",
    "np.nan - np.nan\n",
    "np.nan in set([np.nan])\n",
    "0.3 == 3 * 0.1\n",
    "```"
   ]
  },
  {
   "cell_type": "code",
   "execution_count": null,
   "id": "109cf327",
   "metadata": {},
   "outputs": [],
   "source": [
    "print(0 * np.nan)\n",
    "print(np.nan == np.nan)\n",
    "print(np.inf > np.nan)\n",
    "print(np.nan - np.nan)\n",
    "print(np.nan in set([np.nan]))\n",
    "print(0.3 == 3 * 0.1)"
   ]
  },
  {
   "cell_type": "markdown",
   "id": "6a235316",
   "metadata": {},
   "source": [
    "#### 18. Create a 5x5 matrix with values 1,2,3,4 just below the diagonal (★☆☆)"
   ]
  },
  {
   "cell_type": "code",
   "execution_count": null,
   "id": "f2e6cfa6",
   "metadata": {},
   "outputs": [],
   "source": [
    "matrix = np.zeros((5, 5))\n",
    "values = [1, 2, 3, 4]\n",
    "for i, v in enumerate(values):\n",
    "    matrix[i + 1, i] = v\n",
    "print(matrix)"
   ]
  },
  {
   "cell_type": "markdown",
   "id": "25362e98",
   "metadata": {},
   "source": [
    "#### 19. Create a 8x8 matrix and fill it with a checkerboard pattern (★☆☆)"
   ]
  },
  {
   "cell_type": "code",
   "execution_count": null,
   "id": "cabdf298",
   "metadata": {},
   "outputs": [],
   "source": [
    "matrix = np.zeros((8, 8), dtype=int)\n",
    "for i in range(8):\n",
    "    for j in range(8):\n",
    "        if (i + j) % 2 == 0:\n",
    "            matrix[i, j] = 1\n",
    "print(matrix)"
   ]
  },
  {
   "cell_type": "markdown",
   "id": "6431e977",
   "metadata": {},
   "source": [
    "#### 20. Consider a (6,7,8) shape array, what is the index (x,y,z) of the 100th element? (★☆☆)"
   ]
  },
  {
   "cell_type": "code",
   "execution_count": null,
   "id": "de8b0245",
   "metadata": {},
   "outputs": [],
   "source": [
    "\n",
    "shape = (6, 7, 8)\n",
    "total_elements = np.prod(shape)\n",
    "index_100 = 100\n",
    "if index_100 < total_elements:\n",
    "    search_indexes = np.unravel_index(index_100, shape)\n",
    "    print(f\"Index of the 100th element (x, y, z): {search_indexes}\")\n",
    "else:\n",
    "    print(\"The 100th element is out of range for this array shape.\")"
   ]
  },
  {
   "cell_type": "markdown",
   "id": "31abe6fe",
   "metadata": {},
   "source": [
    "#### 21. Create a checkerboard 8x8 matrix using the tile function (★☆☆)"
   ]
  },
  {
   "cell_type": "code",
   "execution_count": null,
   "id": "6da26fd3",
   "metadata": {},
   "outputs": [],
   "source": [
    "\n",
    "check = np.array([[0, 1], [1, 0]])\n",
    "checkerboard = np.tile(check, (4, 4))\n",
    "print(checkerboard)"
   ]
  },
  {
   "cell_type": "markdown",
   "id": "fd88b3f4",
   "metadata": {},
   "source": [
    "#### 22. Normalize a 5x5 random matrix (★☆☆)"
   ]
  },
  {
   "cell_type": "code",
   "execution_count": null,
   "id": "ee6ced60",
   "metadata": {},
   "outputs": [],
   "source": [
    "matrix = np.random.randint(0, 25, (5, 5))\n",
    "matrix = (matrix - np.min(matrix)) / (np.max(matrix) - np.min(matrix))\n",
    "print(matrix)"
   ]
  },
  {
   "cell_type": "markdown",
   "id": "464d8590",
   "metadata": {},
   "source": [
    "#### 23. Create a custom dtype that describes a color as four unsigned bytes (RGBA) (★☆☆)"
   ]
  },
  {
   "cell_type": "code",
   "execution_count": null,
   "id": "e2f9cfc6",
   "metadata": {},
   "outputs": [],
   "source": [
    "rgba_dtype = np.dtype([('R', np.ubyte), ('G', np.ubyte), ('B', np.ubyte), ('A', np.ubyte)])\n",
    "color = np.array((255, 128, 0, 255), dtype=rgba_dtype)\n",
    "print(color)"
   ]
  },
  {
   "cell_type": "markdown",
   "id": "06c63bb3",
   "metadata": {},
   "source": [
    "#### 24. Multiply a 5x3 matrix by a 3x2 matrix (real matrix product) (★☆☆)"
   ]
  },
  {
   "cell_type": "code",
   "execution_count": null,
   "id": "9fc0d553",
   "metadata": {},
   "outputs": [],
   "source": [
    "first_matrix = np.random.randint(0, 9, size=(5, 3))\n",
    "second_matrix = np.random.randint(0, 9, size=(3, 2))\n",
    "multiply_matrix = np.dot(first_matrix, second_matrix)\n",
    "print(multiply_matrix)"
   ]
  },
  {
   "cell_type": "markdown",
   "id": "76fa6285",
   "metadata": {},
   "source": [
    "#### 25. Given a 1D array, negate all elements which are between 3 and 8, in place. (★☆☆)"
   ]
  },
  {
   "cell_type": "code",
   "execution_count": null,
   "id": "0e25eca7",
   "metadata": {},
   "outputs": [],
   "source": [
    "array = np.random.randint(0, 9, size=20)\n",
    "print(array)\n",
    "array[(array >= 3) & (array<=8)] *= -1\n",
    "print(array)"
   ]
  },
  {
   "cell_type": "markdown",
   "id": "930ed8bb",
   "metadata": {},
   "source": [
    "#### 26. What is the output of the following script? (★☆☆)\n",
    "```python\n",
    "# Author: Jake VanderPlas\n",
    "\n",
    "print(sum(range(5),-1))\n",
    "from numpy import *\n",
    "print(sum(range(5),-1))\n",
    "```"
   ]
  },
  {
   "cell_type": "code",
   "execution_count": null,
   "id": "f02eedba",
   "metadata": {},
   "outputs": [],
   "source": [
    "# код print(sum(range(5),-1)) - виведе 9, оскільки функція sum() сумує числа від 0 до 4, починаючи зі значення -1, як зазначено у коді. \n",
    "# from numpy import * цей код імпортує всі функції та об'єкти з бібліотеки NumPy\n",
    "# print(sum(range(5),-1)) - виведе 10, тому що при використанні numpy функція sum() обраховує суму елементів range(5) вздовж останнього виміру масиву.  "
   ]
  },
  {
   "cell_type": "markdown",
   "id": "177120e7",
   "metadata": {},
   "source": [
    "#### 27. Consider an integer vector Z, which of these expressions are legal? (★☆☆)\n",
    "```python\n",
    "Z**Z\n",
    "2 << Z >> 2\n",
    "Z <- Z\n",
    "1j*Z\n",
    "Z/1/1\n",
    "Z<Z>Z\n",
    "```"
   ]
  },
  {
   "cell_type": "code",
   "execution_count": null,
   "id": "86d6cbef",
   "metadata": {},
   "outputs": [],
   "source": [
    "expressions = [\n",
    "'Z ** Z',          \n",
    "'2 << Z >> 2',     \n",
    "'Z < -Z',         \n",
    "'1j * Z',          \n",
    "'Z / 1 / 1',       \n",
    "'Z < Z > Z',      \n",
    "]\n",
    "Z = np.random.randint(0, 1, 9)\n",
    "for exp in expressions:\n",
    "    try:\n",
    "        eval(exp, {'Z': Z}, {})\n",
    "        print(f\"{exp} correct\")\n",
    "    except Exception as e:\n",
    "        print(f\"{exp} incorrect\")      "
   ]
  },
  {
   "cell_type": "markdown",
   "id": "a6eaf0e8",
   "metadata": {},
   "source": [
    "#### 28. What are the result of the following expressions? (★☆☆)\n",
    "```python\n",
    "np.array(0) / np.array(0)\n",
    "np.array(0) // np.array(0)\n",
    "np.array([np.nan]).astype(int).astype(float)\n",
    "```"
   ]
  },
  {
   "cell_type": "code",
   "execution_count": null,
   "id": "93684068",
   "metadata": {},
   "outputs": [],
   "source": [
    "print(np.array(0) / np.array(0))\n",
    "print(np.array(0) // np.array(0))\n",
    "print(np.array([np.nan]).astype(int).astype(float))"
   ]
  },
  {
   "cell_type": "markdown",
   "id": "524b65f8",
   "metadata": {},
   "source": [
    "#### 29. How to round away from zero a float array ? (★☆☆)"
   ]
  },
  {
   "cell_type": "code",
   "execution_count": null,
   "id": "61fbb78e",
   "metadata": {},
   "outputs": [],
   "source": [
    "array = np.array([2.0, -7.1, 6.6, -4.0, 0.4])\n",
    "array = np.where(array >= 0, np.ceil(array), np.floor(array))\n",
    "print(array)"
   ]
  },
  {
   "cell_type": "markdown",
   "id": "8dc40752",
   "metadata": {},
   "source": [
    "#### 30. How to find common values between two arrays? (★☆☆)"
   ]
  },
  {
   "cell_type": "code",
   "execution_count": null,
   "id": "54399cbe",
   "metadata": {},
   "outputs": [],
   "source": [
    "first_array = np.array([1, 2, 3, 4, 5, 8])\n",
    "second_array = np.array([9, 3, 4, 6, 5, 7])\n",
    "common_values = np.intersect1d(first_array, second_array)\n",
    "print(common_values)"
   ]
  },
  {
   "cell_type": "markdown",
   "id": "b7f38e21",
   "metadata": {},
   "source": [
    "#### 31. How to ignore all numpy warnings (not recommended)? (★☆☆)"
   ]
  },
  {
   "cell_type": "code",
   "execution_count": null,
   "id": "2ca3289c",
   "metadata": {},
   "outputs": [],
   "source": [
    "import warnings\n",
    "\n",
    "with warnings.catch_warnings():\n",
    "    warnings.simplefilter(\"ignore\")\n",
    "\n",
    "    arr = np.zeros(5) / 0 "
   ]
  },
  {
   "cell_type": "code",
   "execution_count": null,
   "metadata": {},
   "outputs": [],
   "source": [
    "arr = np.zeros(5) / 0 "
   ]
  },
  {
   "cell_type": "markdown",
   "id": "2d850aab",
   "metadata": {},
   "source": [
    "#### 32. Is the following expressions true? (★☆☆)\n",
    "```python\n",
    "np.sqrt(-1) == np.emath.sqrt(-1)\n",
    "```"
   ]
  },
  {
   "cell_type": "code",
   "execution_count": null,
   "id": "5c83ffce",
   "metadata": {},
   "outputs": [],
   "source": [
    "print(np.sqrt(-1))\n",
    "print(np.emath.sqrt(-1))\n",
    "print(np.sqrt(-1) == np.emath.sqrt(-1))"
   ]
  },
  {
   "cell_type": "markdown",
   "id": "5c4a556f",
   "metadata": {},
   "source": [
    "#### 33. How to get the dates of yesterday, today and tomorrow? (★☆☆)"
   ]
  },
  {
   "cell_type": "code",
   "execution_count": null,
   "id": "c3b683a0",
   "metadata": {},
   "outputs": [],
   "source": [
    "today = np.datetime64('today', 'D')\n",
    "yesterday = today - np.timedelta64(1, 'D')\n",
    "tomorrow = today + np.timedelta64(1, 'D')\n",
    "print(today)\n",
    "print(yesterday)\n",
    "print(tomorrow)"
   ]
  },
  {
   "cell_type": "markdown",
   "id": "453cdd64",
   "metadata": {},
   "source": [
    "#### 34. How to get all the dates corresponding to the month of July 2016? (★★☆)"
   ]
  },
  {
   "cell_type": "code",
   "execution_count": null,
   "id": "4ba4d37c",
   "metadata": {},
   "outputs": [],
   "source": [
    "dates = np.arange('2016-07', '2016-08', dtype='datetime64[D]')\n",
    "print(dates)"
   ]
  },
  {
   "cell_type": "markdown",
   "id": "52667b6e",
   "metadata": {},
   "source": [
    "#### 35. How to compute ((A+B)*(-A/2)) in place (without copy)? (★★☆)"
   ]
  },
  {
   "cell_type": "code",
   "execution_count": null,
   "id": "e6e7c030",
   "metadata": {},
   "outputs": [],
   "source": [
    "A = np.array([1.0, 2.0, 3.0])\n",
    "B = np.array([4.0, 5.0, 6.0])\n",
    "np.add(A, B, out=B)\n",
    "np.negative(A, out=A)\n",
    "np.divide(A, 2, out=A)\n",
    "np.multiply(A, B, out=B)\n",
    "print(B)"
   ]
  },
  {
   "cell_type": "markdown",
   "id": "9a8f3738",
   "metadata": {},
   "source": [
    "#### 36. Extract the integer part of a random array of positive numbers using 4 different methods (★★☆)"
   ]
  },
  {
   "cell_type": "code",
   "execution_count": null,
   "id": "368a801a",
   "metadata": {},
   "outputs": [],
   "source": [
    "random_array = np.random.uniform(0, 10, 5)\n",
    "integer1 = np.floor(random_array)\n",
    "integer2 = np.ceil(random_array) - 1\n",
    "integer3 = np.trunc(random_array)\n",
    "integer4 = random_array.astype(int)\n",
    "\n",
    "print(\"Original Array:\", random_array)\n",
    "print(\"Integer Part (Floor):\", integer1)\n",
    "print(\"Integer Part (Ceil - 1):\", integer2)\n",
    "print(\"Integer Part (Truncate):\", integer3)\n",
    "print(\"Integer Part (astype int):\", integer4)"
   ]
  },
  {
   "cell_type": "markdown",
   "id": "cab1eed1",
   "metadata": {},
   "source": [
    "#### 37. Create a 5x5 matrix with row values ranging from 0 to 4 (★★☆)"
   ]
  },
  {
   "cell_type": "code",
   "execution_count": null,
   "id": "f1b579ba",
   "metadata": {},
   "outputs": [],
   "source": [
    "matrix = np.zeros((5, 5)) + np.arange(5)\n",
    "print(matrix)"
   ]
  },
  {
   "cell_type": "markdown",
   "id": "cd0ce6b1",
   "metadata": {},
   "source": [
    "#### 38. Consider a generator function that generates 10 integers and use it to build an array (★☆☆)"
   ]
  },
  {
   "cell_type": "code",
   "execution_count": null,
   "id": "aab193a6",
   "metadata": {},
   "outputs": [],
   "source": [
    "def generate_integers():\n",
    "    for i in range(10):\n",
    "        yield i\n",
    "array = np.array(list(generate_integers()))\n",
    "print(array)"
   ]
  },
  {
   "cell_type": "markdown",
   "id": "c4c942d1",
   "metadata": {},
   "source": [
    "#### 39. Create a vector of size 10 with values ranging from 0 to 1, both excluded (★★☆)"
   ]
  },
  {
   "cell_type": "code",
   "execution_count": null,
   "id": "e42eaa4b",
   "metadata": {},
   "outputs": [],
   "source": [
    "vector = np.linspace(0, 1, 12, endpoint=True)[1:-1]\n",
    "print(vector)"
   ]
  },
  {
   "cell_type": "markdown",
   "id": "9b3cb8d2",
   "metadata": {},
   "source": [
    "#### 40. Create a random vector of size 10 and sort it (★★☆)"
   ]
  },
  {
   "cell_type": "code",
   "execution_count": null,
   "id": "37d2b341",
   "metadata": {},
   "outputs": [],
   "source": [
    "random_vector = np.random.rand(10)\n",
    "sorted_vector = np.sort(random_vector)\n",
    "print(random_vector)\n",
    "print(sorted_vector)"
   ]
  },
  {
   "cell_type": "markdown",
   "id": "2facfddc",
   "metadata": {},
   "source": [
    "#### 41. How to sum a small array faster than np.sum? (★★☆)"
   ]
  },
  {
   "cell_type": "code",
   "execution_count": null,
   "id": "4bb8864f",
   "metadata": {},
   "outputs": [],
   "source": [
    "small_array = np.array([1, 3, 5, 7, 9])\n",
    "result = np.add.reduce(small_array)\n",
    "print(result)"
   ]
  },
  {
   "cell_type": "markdown",
   "id": "539cd2a5",
   "metadata": {},
   "source": [
    "#### 42. Consider two random array A and B, check if they are equal (★★☆)"
   ]
  },
  {
   "cell_type": "code",
   "execution_count": null,
   "id": "5246d7bf",
   "metadata": {},
   "outputs": [],
   "source": [
    "A = np.random.rand(5)\n",
    "B = np.random.rand(5)\n",
    "check_if_equal = np.array_equal(A, B)\n",
    "print(A)\n",
    "print(B)\n",
    "print(check_if_equal)"
   ]
  },
  {
   "cell_type": "markdown",
   "id": "448f8274",
   "metadata": {},
   "source": [
    "#### 43. Make an array immutable (read-only) (★★☆)"
   ]
  },
  {
   "cell_type": "code",
   "execution_count": null,
   "id": "7cf2b3dd",
   "metadata": {},
   "outputs": [],
   "source": [
    "array = np.array([1, 2, 3, 4, 5])\n",
    "array.flags.writeable = False"
   ]
  },
  {
   "cell_type": "markdown",
   "id": "d7b7aaf3",
   "metadata": {},
   "source": [
    "#### 44. Consider a random 10x2 matrix representing cartesian coordinates, convert them to polar coordinates (★★☆)"
   ]
  },
  {
   "cell_type": "code",
   "execution_count": null,
   "id": "e2337585",
   "metadata": {},
   "outputs": [],
   "source": [
    "cartesian_coords = np.random.random((10, 2))\n",
    "x, y = cartesian_coords[:, 0], cartesian_coords[:, 1]\n",
    "r = np.hypot(x, y)\n",
    "theta = np.arctan2(y, x)\n",
    "polar_coords = np.column_stack((r, theta))\n",
    "print(\"Polar Coordinates:\")\n",
    "print(polar_coords)"
   ]
  },
  {
   "cell_type": "markdown",
   "id": "a556027a",
   "metadata": {},
   "source": [
    "#### 45. Create random vector of size 10 and replace the maximum value by 0 (★★☆)"
   ]
  },
  {
   "cell_type": "code",
   "execution_count": null,
   "id": "9e07cb87",
   "metadata": {},
   "outputs": [],
   "source": [
    "array = np.random.randint(0, 10, 10)\n",
    "print(array)\n",
    "array[np.argmax(array)] = 0\n",
    "print(array)\n"
   ]
  },
  {
   "cell_type": "markdown",
   "id": "004f3da1",
   "metadata": {},
   "source": [
    "#### 46. Create a structured array with `x` and `y` coordinates covering the [0,1]x[0,1] area (★★☆)"
   ]
  },
  {
   "cell_type": "code",
   "execution_count": null,
   "id": "b3824741",
   "metadata": {},
   "outputs": [],
   "source": [
    "x_and_y_type = [('x', float), ('y', float)]\n",
    "structured_array = np.zeros(15, dtype=x_and_y_type)\n",
    "structured_array['x'] = np.linspace(0, 1, 15)\n",
    "structured_array['y'] = np.linspace(0, 1, 15)\n",
    "print(structured_array)"
   ]
  },
  {
   "cell_type": "markdown",
   "id": "1c0adc0d",
   "metadata": {},
   "source": [
    "#### 47. Given two arrays, X and Y, construct the Cauchy matrix C (Cij =1/(xi - yj)) (★★☆)"
   ]
  },
  {
   "cell_type": "code",
   "execution_count": null,
   "id": "01b3bbb7",
   "metadata": {},
   "outputs": [],
   "source": [
    "X = np.array([1, 3, 5, 7])\n",
    "Y = np.array([2, 4, 6, 8])\n",
    "C = 1.0 / (X[:, np.newaxis] - Y)\n",
    "print(C)"
   ]
  },
  {
   "cell_type": "markdown",
   "id": "c8a2f65a",
   "metadata": {},
   "source": [
    "#### 48. Print the minimum and maximum representable value for each numpy scalar type (★★☆)"
   ]
  },
  {
   "cell_type": "code",
   "execution_count": null,
   "id": "35d844d6",
   "metadata": {},
   "outputs": [],
   "source": [
    "dtypes = [np.int8, np.uint8, np.int16, np.uint16, np.int32, np.uint32,\n",
    "          np.int64, np.uint64, np.float16, np.float32, np.float64]\n",
    "for dtype in dtypes:\n",
    "    info = np.iinfo(dtype) if np.issubdtype(dtype, np.integer) else np.finfo(dtype)\n",
    "    print(f\"{dtype.__name__}: Min = {info.min}, Max = {info.max}\")"
   ]
  },
  {
   "cell_type": "markdown",
   "id": "11727a69",
   "metadata": {},
   "source": [
    "#### 49. How to print all the values of an array? (★★☆)"
   ]
  },
  {
   "cell_type": "code",
   "execution_count": null,
   "id": "47e98473",
   "metadata": {},
   "outputs": [],
   "source": [
    "array = np.random.randint(0, 20, (10, 10))\n",
    "print(array)"
   ]
  },
  {
   "cell_type": "markdown",
   "id": "e0e7d741",
   "metadata": {},
   "source": [
    "#### 50. How to find the closest value (to a given scalar) in a vector? (★★☆)"
   ]
  },
  {
   "cell_type": "code",
   "execution_count": null,
   "id": "62cabf6f",
   "metadata": {},
   "outputs": [],
   "source": [
    "arr = np.array([5, 10, 15, 20, 25, 30, 35, 40])\n",
    "scalar = 16\n",
    "index = np.abs(arr - scalar).argmin()\n",
    "closest_value = arr[index]\n",
    "print(arr)\n",
    "print(\"Closest value:\", closest_value)\n",
    "print(\"Index of closest value:\", index)"
   ]
  },
  {
   "cell_type": "markdown",
   "id": "c5611b9e",
   "metadata": {},
   "source": [
    "#### 51. Create a structured array representing a position (x,y) and a color (r,g,b) (★★☆)"
   ]
  },
  {
   "cell_type": "code",
   "execution_count": null,
   "id": "f622939d",
   "metadata": {},
   "outputs": [],
   "source": [
    "dtype = [('position', [('x', float), ('y', float)]), ('color', [('r', int), ('g', int), ('b', int)])]\n",
    "data = [\n",
    "    ((1.0, 2.0), (255, 0, 0)), \n",
    "    ((3.5, 4.2), (0, 128, 255))\n",
    "]\n",
    "structured_array = np.array(data, dtype=dtype)\n",
    "print(structured_array)"
   ]
  },
  {
   "cell_type": "markdown",
   "id": "d22b8574",
   "metadata": {},
   "source": [
    "#### 52. Consider a random vector with shape (100,2) representing coordinates, find point by point distances (★★☆)"
   ]
  },
  {
   "cell_type": "code",
   "execution_count": null,
   "id": "d5c9cdf8",
   "metadata": {},
   "outputs": [],
   "source": [
    "coordinates = np.random.rand(100, 2)\n",
    "distances = np.sqrt(np.sum((coordinates[:, None] - coordinates) ** 2, axis=-1))\n",
    "print(distances)"
   ]
  },
  {
   "cell_type": "markdown",
   "id": "f5c164f2",
   "metadata": {},
   "source": [
    "#### 53. How to convert a float (32 bits) array into an integer (32 bits) in place?"
   ]
  },
  {
   "cell_type": "code",
   "execution_count": null,
   "id": "ea262de8",
   "metadata": {},
   "outputs": [],
   "source": [
    "float_array = np.array([5.5, 7.6, 4.1], dtype=np.float32)\n",
    "int_array = float_array.view(np.int32)\n",
    "print(float_array)\n",
    "print(int_array)"
   ]
  },
  {
   "cell_type": "markdown",
   "id": "a8b7e6f5",
   "metadata": {},
   "source": [
    "#### 54. How to read the following file? (★★☆)\n",
    "```\n",
    "1, 2, 3, 4, 5\n",
    "6,  ,  , 7, 8\n",
    " ,  , 9,10,11\n",
    "```"
   ]
  },
  {
   "cell_type": "code",
   "execution_count": null,
   "id": "bde0538a",
   "metadata": {},
   "outputs": [],
   "source": [
    "data = np.genfromtxt('data.txt', delimiter=\",\", filling_values= np.nan)\n",
    "print(data)"
   ]
  },
  {
   "cell_type": "markdown",
   "id": "c6b32834",
   "metadata": {},
   "source": [
    "#### 55. What is the equivalent of enumerate for numpy arrays? (★★☆)"
   ]
  },
  {
   "cell_type": "code",
   "execution_count": null,
   "id": "ab02472a",
   "metadata": {},
   "outputs": [],
   "source": [
    "array = np.array([10, 20, 30])\n",
    "shape = array.shape\n",
    "for idx in np.ndindex(shape):\n",
    "    value = array[idx]\n",
    "    print(f\"index: {idx}, value: {value}\")"
   ]
  },
  {
   "cell_type": "markdown",
   "id": "a2121a05",
   "metadata": {},
   "source": [
    "#### 56. Generate a generic 2D Gaussian-like array (★★☆)"
   ]
  },
  {
   "cell_type": "code",
   "execution_count": null,
   "id": "18507102",
   "metadata": {},
   "outputs": [],
   "source": [
    "import matplotlib.pyplot as plt\n",
    "\n",
    "def gaussian_2d(shape=(100, 100), sigma=10):\n",
    "    x, y = np.meshgrid(np.linspace(-1, 1, shape[0]), np.linspace(-1, 1, shape[1]))\n",
    "    d = np.sqrt(x*x + y*y)\n",
    "    mu = 0.0\n",
    "    gaussian = np.exp(-( (d-mu)**2 / ( 2.0 * sigma**2 ) ) )\n",
    "    return gaussian\n",
    "gaussian_array = gaussian_2d()\n",
    "plt.imshow(gaussian_array, cmap='viridis')\n",
    "plt.colorbar()\n",
    "plt.title('2D Gaussian-like array')\n",
    "plt.show()"
   ]
  },
  {
   "cell_type": "markdown",
   "id": "97055efa",
   "metadata": {},
   "source": [
    "#### 57. How to randomly place p elements in a 2D array? (★★☆)"
   ]
  },
  {
   "cell_type": "code",
   "execution_count": null,
   "id": "292e842f",
   "metadata": {},
   "outputs": [],
   "source": [
    "import matplotlib.pyplot as plt\n",
    "\n",
    "def random_placement(shape, p, value):\n",
    "    array = np.zeros(shape) \n",
    "    n = shape[0] * shape[1] \n",
    "    indices = np.random.choice(n, p, replace=False)\n",
    "\n",
    "    array[np.unravel_index(indices, shape)] = value\n",
    "    return array\n",
    "array_shape = (5, 5) \n",
    "num_elements = 5 \n",
    "element_value = 1\n",
    "\n",
    "result_array = random_placement(array_shape, num_elements, element_value)\n",
    "\n",
    "plt.imshow(result_array, cmap='coolwarm', interpolation='nearest')\n",
    "plt.colorbar()\n",
    "plt.title(\"Randomly Placed Elements in 2D array\")\n",
    "plt.show()"
   ]
  },
  {
   "cell_type": "markdown",
   "id": "bfd2513c",
   "metadata": {},
   "source": [
    "#### 58. Subtract the mean of each row of a matrix (★★☆)"
   ]
  },
  {
   "cell_type": "code",
   "execution_count": null,
   "id": "f306ab72",
   "metadata": {},
   "outputs": [],
   "source": [
    "array = np.random.randint(0, 20, (10, 10))\n",
    "mean = np.mean(array, axis=1, keepdims=True)\n",
    "print(array)\n",
    "print(mean)"
   ]
  },
  {
   "cell_type": "markdown",
   "id": "da9f2f9b",
   "metadata": {},
   "source": [
    "#### 59. How to sort an array by the nth column? (★★☆)"
   ]
  },
  {
   "cell_type": "code",
   "execution_count": null,
   "id": "68cde57f",
   "metadata": {},
   "outputs": [],
   "source": [
    "array = np.array([\n",
    "    [1, 5, 3],\n",
    "    [3, 2, 1],\n",
    "    [5, 1, 2],\n",
    "    [7, 4, 6]\n",
    "])\n",
    "\n",
    "n = 1  \n",
    "sorted_indices = np.argsort(array[:, n])\n",
    "\n",
    "sorted_array = array[sorted_indices]\n",
    "\n",
    "print(\"Sorted array by\", n+1, \"column:\")\n",
    "print(sorted_array)"
   ]
  },
  {
   "cell_type": "markdown",
   "id": "5b7be45c",
   "metadata": {},
   "source": [
    "#### 60. How to tell if a given 2D array has null columns? (★★☆)"
   ]
  },
  {
   "cell_type": "code",
   "execution_count": null,
   "id": "7dbe2c27",
   "metadata": {},
   "outputs": [],
   "source": [
    "matrix = np.random.randint(0, 2, (2, 20))\n",
    "null_columns = np.all(matrix == 0, axis=0)\n",
    "null_columns_indexes = np.array(np.where(null_columns))[0]\n",
    "print(f\"Matrix:\\n {matrix}\")\n",
    "print(f\"Null columns indexes:\\n {null_columns_indexes}\")"
   ]
  },
  {
   "cell_type": "markdown",
   "id": "7c18c02e",
   "metadata": {},
   "source": [
    "#### 61. Find the nearest value from a given value in an array (★★☆)"
   ]
  },
  {
   "cell_type": "code",
   "execution_count": null,
   "id": "b78ae9c4",
   "metadata": {},
   "outputs": [],
   "source": [
    "def find_nearest(array, value):\n",
    "    array = np.asarray(array)\n",
    "    idx = (np.abs(array - value)).argmin()\n",
    "    return array[idx]\n",
    "\n",
    "arr = np.array([1, 3, 6, 15, 20])\n",
    "value = 3.8\n",
    "nearest_value = find_nearest(arr, value)\n",
    "print(f\"The nearest value to {value} in an array: {nearest_value}\")"
   ]
  },
  {
   "cell_type": "markdown",
   "id": "8174ba2c",
   "metadata": {},
   "source": [
    "#### 62. Considering two arrays with shape (1,3) and (3,1), how to compute their sum using an iterator? (★★☆)"
   ]
  },
  {
   "cell_type": "code",
   "execution_count": null,
   "id": "8a18fe57",
   "metadata": {},
   "outputs": [],
   "source": [
    "first_array = np.array([[1, 5, 9]])\n",
    "second_array = np.array([[2],\n",
    "                         [6],\n",
    "                         [8]])\n",
    "result = 0\n",
    "first_interator = np.nditer(first_array)\n",
    "second_interator = np.nditer(second_array)\n",
    "while not (first_interator.finished and second_interator.finished):\n",
    "    result += first_interator[0] + second_interator[0]\n",
    "    first_interator.iternext()\n",
    "    second_interator.iternext()\n",
    "print(f\"Sum: {result}\")"
   ]
  },
  {
   "cell_type": "markdown",
   "id": "9189bd7c",
   "metadata": {},
   "source": [
    "#### 63. Create an array class that has a name attribute (★★☆)"
   ]
  },
  {
   "cell_type": "code",
   "execution_count": null,
   "id": "1c01ed42",
   "metadata": {},
   "outputs": [],
   "source": [
    "class NamedArray(np.ndarray):\n",
    "    def __new__(cls, input_array, name=\"no name\"):\n",
    "        obj = np.asarray(input_array).view(cls)\n",
    "        obj.name = name\n",
    "        return obj\n",
    "    \n",
    "arr = NamedArray([1, 2, 3], name=\"example\")\n",
    "print(f\"Array: {arr}\")\n",
    "print(f\"Name of array: {arr.name}\")"
   ]
  },
  {
   "cell_type": "markdown",
   "id": "f30162d2",
   "metadata": {},
   "source": [
    "#### 64. Consider a given vector, how to add 1 to each element indexed by a second vector (be careful with repeated indices)? (★★★)"
   ]
  },
  {
   "cell_type": "code",
   "execution_count": null,
   "id": "093ba36f",
   "metadata": {},
   "outputs": [],
   "source": [
    "def add_one_to_indexed_elements(vector, indices):\n",
    "    vector = np.asarray(vector)\n",
    "    indices = np.asarray(indices)\n",
    "    vector[indices] += 1\n",
    "    return vector\n",
    "\n",
    "v = [1, 2, 3, 4, 6]\n",
    "i = [0, 1, 2, 2, 3]\n",
    "result = add_one_to_indexed_elements(v, i)\n",
    "print(result)"
   ]
  },
  {
   "cell_type": "markdown",
   "id": "f5b1c584",
   "metadata": {},
   "source": [
    "#### 65. How to accumulate elements of a vector (X) to an array (F) based on an index list (I)? (★★★)"
   ]
  },
  {
   "cell_type": "code",
   "execution_count": null,
   "id": "c9d92a75",
   "metadata": {},
   "outputs": [],
   "source": [
    "X = np.array([1, 3, 5, 7, 9])\n",
    "I = np.array([2, 3, 0, 0, 1, 4, 0])\n",
    "F = np.zeros_like(I)\n",
    "F = X[I]\n",
    "print(F)"
   ]
  },
  {
   "cell_type": "markdown",
   "id": "994c452d",
   "metadata": {},
   "source": [
    "#### 66. Considering a (w,h,3) image of (dtype=ubyte), compute the number of unique colors (★★☆)"
   ]
  },
  {
   "cell_type": "code",
   "execution_count": null,
   "id": "269cdaea",
   "metadata": {},
   "outputs": [],
   "source": [
    "def count_unique_colors(image):\n",
    "    flat_image = image.reshape(-1, 3)\n",
    "    unique_colors = np.unique(flat_image, axis=0)\n",
    "    return unique_colors.shape[0]\n",
    "\n",
    "image = np.random.randint(0, 256, size=(20, 20, 3), dtype=np.uint8)\n",
    "unique_colors = count_unique_colors(image)\n",
    "print(f\"The number of unique colors: {unique_colors}\")"
   ]
  },
  {
   "cell_type": "markdown",
   "id": "4bddeb31",
   "metadata": {},
   "source": [
    "#### 67. Considering a four dimensions array, how to get sum over the last two axis at once? (★★★)"
   ]
  },
  {
   "cell_type": "code",
   "execution_count": null,
   "id": "32af15f5",
   "metadata": {},
   "outputs": [],
   "source": [
    "array = np.random.rand(2, 3, 4, 5)\n",
    "result = np.sum(array, axis=(-2, -1))\n",
    "print(result)"
   ]
  },
  {
   "cell_type": "markdown",
   "id": "c4cf083c",
   "metadata": {},
   "source": [
    "#### 68. Considering a one-dimensional vector D, how to compute means of subsets of D using a vector S of same size describing subset  indices? (★★★)"
   ]
  },
  {
   "cell_type": "code",
   "execution_count": null,
   "id": "9600a2dd",
   "metadata": {},
   "outputs": [],
   "source": [
    "def compute_subset_means(D, S):\n",
    "    D = np.asarray(D)\n",
    "    S = np.asarray(S)\n",
    "    subset_indices = np.unique(S)\n",
    "    subset_means = [np.mean(D[S == i]) for i in subset_indices]\n",
    "    return subset_means\n",
    "\n",
    "D = [1, 2, 3, 4, 5, 6, 7, 8, 9, 10]\n",
    "S = [0, 0, 1, 1, 1, 2, 2, 2, 2, 2]\n",
    "subset_means = compute_subset_means(D, S)\n",
    "print(f\"Mean values of subsets: {subset_means}\")"
   ]
  },
  {
   "cell_type": "markdown",
   "id": "a5e316db",
   "metadata": {},
   "source": [
    "#### 69. How to get the diagonal of a dot product? (★★★)"
   ]
  },
  {
   "cell_type": "code",
   "execution_count": null,
   "id": "94735dbd",
   "metadata": {},
   "outputs": [],
   "source": [
    "A = np.array([[1, 2], [3, 4]])\n",
    "B = np.array([[5, 6], [7, 8]])\n",
    "\n",
    "dot_product = np.dot(A, B)\n",
    "diagonal = np.diag(dot_product)\n",
    "\n",
    "print(diagonal)\n"
   ]
  },
  {
   "cell_type": "markdown",
   "id": "de727a7b",
   "metadata": {},
   "source": [
    "#### 70. Consider the vector [1, 2, 3, 4, 5], how to build a new vector with 3 consecutive zeros interleaved between each value? (★★★)"
   ]
  },
  {
   "cell_type": "code",
   "execution_count": null,
   "id": "982be812",
   "metadata": {},
   "outputs": [],
   "source": [
    "vector = np.array([1, 2, 3, 4, 5])\n",
    "new_vector = np.zeros(vector.shape[0] + (vector.shape[0] -1) * 3)\n",
    "new_vector[::4] = vector\n",
    "print(new_vector)"
   ]
  },
  {
   "cell_type": "markdown",
   "id": "a9a73d6b",
   "metadata": {},
   "source": [
    "#### 71. Consider an array of dimension (5,5,3), how to mulitply it by an array with dimensions (5,5)? (★★★)"
   ]
  },
  {
   "cell_type": "code",
   "execution_count": null,
   "id": "282a90cc",
   "metadata": {},
   "outputs": [],
   "source": [
    "first_array = np.random.rand(5, 5, 3)\n",
    "second_array = np.random.rand(5, 5)\n",
    "result = first_array * second_array[:, :, np.newaxis]\n",
    "print(result)"
   ]
  },
  {
   "cell_type": "markdown",
   "id": "a951c78f",
   "metadata": {},
   "source": [
    "#### 72. How to swap two rows of an array? (★★★)"
   ]
  },
  {
   "cell_type": "code",
   "execution_count": null,
   "id": "e29b3fde",
   "metadata": {},
   "outputs": [],
   "source": [
    "array = np.array([[1, 2, 3], [4, 5, 6], [7, 8, 9]])\n",
    "array[[0, 1]] = array[[1, 0]]\n",
    "print(array)"
   ]
  },
  {
   "cell_type": "markdown",
   "id": "43b639e8",
   "metadata": {},
   "source": [
    "#### 73. Consider a set of 10 triplets describing 10 triangles (with shared vertices), find the set of unique line segments composing all the  triangles (★★★)"
   ]
  },
  {
   "cell_type": "code",
   "execution_count": null,
   "id": "147e1034",
   "metadata": {},
   "outputs": [],
   "source": [
    "triangles = np.array([\n",
    "    [[0, 0], [1, 0], [0, 1]],\n",
    "    [[0, 0], [1, 0], [1, 1]],\n",
    "    [[0, 0], [0, 1], [1, 1]],\n",
    "    [[0, 0], [1, 1], [0, 1]],\n",
    "    [[1, 0], [2, 0], [1, 1]],\n",
    "    [[1, 0], [2, 0], [2, 1]],\n",
    "    [[1, 0], [1, 1], [2, 1]],\n",
    "    [[1, 1], [2, 0], [2, 1]],\n",
    "    [[0, 1], [1, 1], [1, 2]],\n",
    "    [[0, 1], [1, 2], [0, 2]]\n",
    "])\n",
    "segments = np.concatenate([triangles[:, [0, 1]], triangles[:, [1, 2]], triangles[:, [2, 0]]])\n",
    "unique_segments = np.unique(segments, axis=0)\n",
    "print(unique_segments)"
   ]
  },
  {
   "cell_type": "markdown",
   "id": "d41de585",
   "metadata": {},
   "source": [
    "#### 74. Given a sorted array C that corresponds to a bincount, how to produce an array A such that np.bincount(A) == C? (★★★)"
   ]
  },
  {
   "cell_type": "code",
   "execution_count": null,
   "id": "5f5d6e36",
   "metadata": {},
   "outputs": [],
   "source": [
    "def create_array(C):\n",
    "    A = np.repeat(np.arange(len(C)), C)\n",
    "    return A\n",
    "\n",
    "C = np.array([1, 3, 5, 7, 9])\n",
    "A = create_array(C)\n",
    "print(f\"Array C: {C}\")\n",
    "print(f\"Array A: {A}\")\n",
    "print(f\"Result np.bincount(A): {np.bincount(A)}\")"
   ]
  },
  {
   "cell_type": "markdown",
   "id": "b50adf7c",
   "metadata": {},
   "source": [
    "#### 75. How to compute averages using a sliding window over an array? (★★★)"
   ]
  },
  {
   "cell_type": "code",
   "execution_count": null,
   "id": "e631a9d2",
   "metadata": {},
   "outputs": [],
   "source": [
    "def sliding_window_average(array, window_size):\n",
    "    window = np.ones(window_size) / float(window_size)\n",
    "    return np.convolve(array, window, 'valid')\n",
    "\n",
    "array = np.array([1, 2, 3, 4, 5, 6, 7, 8, 9, 10])\n",
    "window_size = 5\n",
    "result = sliding_window_average(array, window_size)\n",
    "print(f\"Sliding average: {result}\")"
   ]
  },
  {
   "cell_type": "markdown",
   "id": "1ab4c50d",
   "metadata": {},
   "source": [
    "#### 76. Consider a one-dimensional array Z, build a two-dimensional array whose first row is (Z[0],Z[1],Z[2]) and each subsequent row is  shifted by 1 (last row should be (Z[-3],Z[-2],Z[-1]) (★★★)"
   ]
  },
  {
   "cell_type": "code",
   "execution_count": null,
   "id": "3ccfe2c0",
   "metadata": {},
   "outputs": [],
   "source": [
    "def create_shifted_array(Z):\n",
    "    A = np.array([Z[:3]])\n",
    "    for i in range(1, len(Z) - 2):\n",
    "        A = np.append(A, [Z[i:i+3]], axis=0)\n",
    "    return A\n",
    "\n",
    "Z = np.array([1, 2, 3, 4, 5, 6, 7, 8, 9])\n",
    "A = create_shifted_array(Z)\n",
    "print(A)"
   ]
  },
  {
   "cell_type": "markdown",
   "id": "5b4fe59d",
   "metadata": {},
   "source": [
    "#### 77. How to negate a boolean, or to change the sign of a float inplace? (★★★)"
   ]
  },
  {
   "cell_type": "code",
   "execution_count": null,
   "id": "3c2373ff",
   "metadata": {},
   "outputs": [],
   "source": [
    "# Создаем массив булевых значений\n",
    "arr_boolean = np.array([True, False, True, False])\n",
    "\n",
    "arr_boolean_inv1 = ~arr_boolean\n",
    "arr_boolean_inv2 = np.logical_not(arr_boolean)\n",
    "\n",
    "print(arr_boolean_inv1)\n",
    "print(arr_boolean_inv2)\n",
    "\n",
    "array_float = np.array([-7.6, 2.1, 4.2, -8.3])\n",
    "\n",
    "np.negative(array_float, out=array_float)\n",
    "\n",
    "print(array_float)"
   ]
  },
  {
   "cell_type": "markdown",
   "id": "119ab5af",
   "metadata": {},
   "source": [
    "#### 78. Consider 2 sets of points P0,P1 describing lines (2d) and a point p, how to compute distance from p to each line i (P0[i],P1[i])? (★★★)"
   ]
  },
  {
   "cell_type": "code",
   "execution_count": null,
   "id": "1d8d06dc",
   "metadata": {},
   "outputs": [],
   "source": [
    "def distance_to_lines(P0, P1, p):\n",
    "    v = P1 - P0\n",
    "    w = p - P0\n",
    "    c1 = np.sum(w * v, axis=1) / np.sum(v * v, axis=1)\n",
    "    nearest_points = P0 + c1[:, np.newaxis] * v\n",
    "    distances = np.linalg.norm(nearest_points - p, axis=1)\n",
    "    return distances\n",
    "\n",
    "P0 = np.array([[0, 0], [1, 1], [2, 2]])\n",
    "P1 = np.array([[1, 0], [2, 1], [3, 2]])\n",
    "p = np.array([1, 2])\n",
    "distances = distance_to_lines(P0, P1, p)\n",
    "print(f\"Distances from point to lines: {distances}\")\n"
   ]
  },
  {
   "cell_type": "markdown",
   "id": "e5e7f323",
   "metadata": {},
   "source": [
    "#### 79. Consider 2 sets of points P0,P1 describing lines (2d) and a set of points P, how to compute distance from each point j (P[j]) to each line i (P0[i],P1[i])? (★★★)"
   ]
  },
  {
   "cell_type": "code",
   "execution_count": null,
   "id": "d0ce77e2",
   "metadata": {},
   "outputs": [],
   "source": [
    "def distance_to_lines(P0, P1, P):\n",
    "    v = P1 - P0\n",
    "    w = P[:, np.newaxis] - P0\n",
    "    c1 = np.sum(w * v, axis=2) / np.sum(v * v, axis=1)\n",
    "    nearest_points = P0[np.newaxis, :, :] + c1[:, :, np.newaxis] * v[np.newaxis, :, :]\n",
    "    distances = np.linalg.norm(nearest_points - P[:, np.newaxis, :], axis=2)\n",
    "    return distances\n",
    "\n",
    "P0 = np.array([[0, 0], [1, 1], [2, 2]])\n",
    "P1 = np.array([[1, 0], [2, 1], [3, 2]])\n",
    "P = np.array([[1, 2], [2, 3], [3, 4], [4, 5]])\n",
    "distances = distance_to_lines(P0, P1, P)\n",
    "print(f\"Distances from points to lines:\\n {distances}\")"
   ]
  },
  {
   "cell_type": "markdown",
   "id": "9b9d03eb",
   "metadata": {},
   "source": [
    "#### 80. Consider an arbitrary array, write a function that extract a subpart with a fixed shape and centered on a given element (pad with a `fill` value when necessary) (★★★)"
   ]
  },
  {
   "cell_type": "code",
   "execution_count": null,
   "id": "ec2b7ae3",
   "metadata": {},
   "outputs": [],
   "source": [
    "def extract_subpart(arr, shape, center, fill):\n",
    "    if shape[0] % 2 == 0 or shape[1] % 2 == 0:\n",
    "        raise ValueError(\"The shape must be an odd shape\")\n",
    "\n",
    "    half_shape = (shape[0] // 2, shape[1] // 2)\n",
    "    top_left = (center[0] - half_shape[0], center[1] - half_shape[1])\n",
    "    bottom_right = (center[0] + half_shape[0] + 1, center[1] + half_shape[1] + 1)\n",
    "    result = np.full(shape, fill)\n",
    "    min_row = max(0, top_left[0])\n",
    "    min_col = max(0, top_left[1])\n",
    "    max_row = min(arr.shape[0], bottom_right[0])\n",
    "    max_col = min(arr.shape[1], bottom_right[1])\n",
    "    res_min_row = max(0, -top_left[0])\n",
    "    res_min_col = max(0, -top_left[1])\n",
    "    res_max_row = res_min_row + max_row - min_row\n",
    "    res_max_col = res_min_col + max_col - min_col\n",
    "    result[res_min_row:res_max_row, res_min_col:res_max_col] = arr[min_row:max_row, min_col:max_col]\n",
    "    return result\n",
    "\n",
    "array = np.arange(49).reshape((7, 7))\n",
    "subpart = extract_subpart(array, (3, 3), (2, 2), -1)\n",
    "print(subpart)"
   ]
  },
  {
   "cell_type": "markdown",
   "id": "27794913",
   "metadata": {},
   "source": [
    "#### 81. Consider an array Z = [1,2,3,4,5,6,7,8,9,10,11,12,13,14], how to generate an array R = [[1,2,3,4], [2,3,4,5], [3,4,5,6], ..., [11,12,13,14]]? (★★★)"
   ]
  },
  {
   "cell_type": "code",
   "execution_count": null,
   "id": "f3e7878b",
   "metadata": {},
   "outputs": [],
   "source": [
    "def create_array(Z, shape):\n",
    "    step = Z.strides[0]\n",
    "    shape = (len(Z) - shape + 1, shape)\n",
    "    R = np.lib.stride_tricks.as_strided(Z, shape=shape, strides=(step, step))\n",
    "    return R\n",
    "\n",
    "Z = np.array([1, 2, 3, 4, 5, 6, 7, 8, 9, 10, 11, 12, 13, 14])\n",
    "shape = 4\n",
    "R = create_array(Z, shape)\n",
    "print(R)"
   ]
  },
  {
   "cell_type": "markdown",
   "id": "fae786f5",
   "metadata": {},
   "source": [
    "#### 82. Compute a matrix rank (★★★)"
   ]
  },
  {
   "cell_type": "code",
   "execution_count": null,
   "id": "64b9615b",
   "metadata": {},
   "outputs": [],
   "source": [
    "matrix = np.array([[1, 2, 3], [4, 5, 6], [7, 8, 9]])\n",
    "\n",
    "# Вычисляем ранг матрицы\n",
    "rank = np.linalg.matrix_rank(matrix)\n",
    "\n",
    "print(f\"Matrix rank: {rank}\")"
   ]
  },
  {
   "cell_type": "markdown",
   "id": "c85aa0b9",
   "metadata": {},
   "source": [
    "#### 83. How to find the most frequent value in an array?"
   ]
  },
  {
   "cell_type": "code",
   "execution_count": null,
   "id": "056be85b",
   "metadata": {},
   "outputs": [],
   "source": [
    "def most_frequent_value(array):\n",
    "    values, counts = np.unique(array, return_counts=True)\n",
    "    index = np.argmax(counts)\n",
    "    return values[index]\n",
    "\n",
    "array = np.array([1, 3, 5, 5, 1, 6, 7, 5, 5, 9, 4])\n",
    "result = most_frequent_value(array)\n",
    "print(\"The most frequent value:\", result)"
   ]
  },
  {
   "cell_type": "markdown",
   "id": "0ff2344d",
   "metadata": {},
   "source": [
    "#### 84. Extract all the contiguous 3x3 blocks from a random 10x10 matrix (★★★)"
   ]
  },
  {
   "cell_type": "code",
   "execution_count": null,
   "id": "d58b1318",
   "metadata": {},
   "outputs": [],
   "source": [
    "random_matrix = np.random.randint(0, 50, (10, 10))\n",
    "\n",
    "# Функция для извлечения непрерывных блоков 3x3\n",
    "def extract_blocks(random_matrix):\n",
    "    row, col = random_matrix.shape\n",
    "    blocks = []\n",
    "    for i in range(row - 2):\n",
    "        for j in range(col - 2):\n",
    "            block = random_matrix[i:i+3, j:j+3]\n",
    "            blocks.append(block)\n",
    "    return blocks\n",
    "\n",
    "blocks = extract_blocks(random_matrix)\n",
    "\n",
    "print(random_matrix)\n",
    "for i in range(7):\n",
    "    print(f\"Блок {i+1}:\\n{blocks[i]}\\n\")"
   ]
  },
  {
   "cell_type": "markdown",
   "id": "1a18b263",
   "metadata": {},
   "source": [
    "#### 85. Create a 2D array subclass such that Z[i,j] == Z[j,i] (★★★)"
   ]
  },
  {
   "cell_type": "code",
   "execution_count": null,
   "id": "87f17adc",
   "metadata": {},
   "outputs": [],
   "source": [
    "class SymmetricMatrix(np.ndarray):\n",
    "    def __new__(cls, input_array):\n",
    "        symmetric_array = np.asarray(input_array).view(cls)\n",
    "        return symmetric_array + symmetric_array.transpose()\n",
    "\n",
    "Z = np.array([[1, 2, 3], [4, 5, 6], [7, 8, 9]])\n",
    "symmetric = SymmetricMatrix(Z)\n",
    "print(symmetric)"
   ]
  },
  {
   "cell_type": "markdown",
   "id": "f85f2cad",
   "metadata": {},
   "source": [
    "#### 86. Consider a set of p matrices wich shape (n,n) and a set of p vectors with shape (n,1). How to compute the sum of of the p matrix products at once? (result has shape (n,1)) (★★★)"
   ]
  },
  {
   "cell_type": "code",
   "execution_count": null,
   "id": "8d230557",
   "metadata": {},
   "outputs": [],
   "source": [
    "def sum_matrix_products(p, n):\n",
    "    matrices = np.random.rand(p, n, n)\n",
    "    vectors = np.random.rand(p, n, 1)\n",
    "    result = np.sum(matrices @ vectors, axis=0)\n",
    "    return result\n",
    "\n",
    "p = 3\n",
    "n = 4\n",
    "result = sum_matrix_products(p, n)\n",
    "print(result)"
   ]
  },
  {
   "cell_type": "markdown",
   "id": "5afb72c8",
   "metadata": {},
   "source": [
    "#### 87. Consider a 16x16 array, how to get the block-sum (block size is 4x4)? (★★★)"
   ]
  },
  {
   "cell_type": "code",
   "execution_count": null,
   "id": "e86f47a9",
   "metadata": {},
   "outputs": [],
   "source": [
    "array = np.random.rand(16, 16)\n",
    "blocks = array.reshape(4, 4, 4, 4)\n",
    "block_sum = blocks.sum(axis=(1, 2))\n",
    "print(block_sum)"
   ]
  },
  {
   "cell_type": "markdown",
   "id": "6094d37c",
   "metadata": {},
   "source": [
    "#### 88. How to implement the Game of Life using numpy arrays? (★★★)"
   ]
  },
  {
   "cell_type": "code",
   "execution_count": null,
   "id": "a93e715f",
   "metadata": {},
   "outputs": [],
   "source": [
    "import matplotlib.pyplot as plt\n",
    "import matplotlib.animation as animation\n",
    "\n",
    "def update_board(board):\n",
    "    new_board = board.copy()\n",
    "    rows, cols = board.shape\n",
    "\n",
    "    for i in range(rows):\n",
    "        for j in range(cols):\n",
    "            neighbors_sum = np.sum(board[max(0, i-1):min(rows, i+2), max(0, j-1):min(cols, j+2)]) - board[i, j]\n",
    "            if board[i, j] == 0 and neighbors_sum == 3:\n",
    "                new_board[i, j] = 1\n",
    "            elif board[i, j] == 1 and (neighbors_sum < 2 or neighbors_sum > 3):\n",
    "                new_board[i, j] = 0\n",
    "\n",
    "    return new_board\n",
    "board = np.random.choice([0, 1], size=(50, 50))\n",
    "fig, ax = plt.subplots()\n",
    "img = ax.imshow(board, cmap='Greys', interpolation='nearest')\n",
    "\n",
    "def update(frame):\n",
    "    global board\n",
    "    board = update_board(board)\n",
    "    img.set_array(board)\n",
    "    return img,\n",
    "\n",
    "ani = animation.FuncAnimation(fig, update, frames=100, interval=200, blit=True)\n",
    "plt.show()"
   ]
  },
  {
   "cell_type": "markdown",
   "id": "a173cf96",
   "metadata": {},
   "source": [
    "#### 89. How to get the n largest values of an array (★★★)"
   ]
  },
  {
   "cell_type": "code",
   "execution_count": null,
   "id": "b7c2ff35",
   "metadata": {},
   "outputs": [],
   "source": [
    "array = np.random.randint(1, 100, size=20)\n",
    "print(f\"Random array:\\n {array}\")\n",
    "\n",
    "n_largest_values = np.partition(array, -3)[-3:]\n",
    "print(f\"Largest values:\\n {n_largest_values}\")"
   ]
  },
  {
   "cell_type": "markdown",
   "id": "15db2d01",
   "metadata": {},
   "source": [
    "#### 90. Given an arbitrary number of vectors, build the cartesian product (every combinations of every item) (★★★)"
   ]
  },
  {
   "cell_type": "code",
   "execution_count": null,
   "id": "a9a4633d",
   "metadata": {},
   "outputs": [],
   "source": [
    "vector1 = np.array([1, 2, 3])\n",
    "vector2 = np.array([4, 5, 6])\n",
    "vector3 = np.array([7, 8, 9])\n",
    "\n",
    "X, Y, Z = np.meshgrid(vector1, vector2, vector3, indexing='ij')\n",
    "cartesian_product = np.stack([X.ravel(), Y.ravel(), Z.ravel()], axis=-1)\n",
    "\n",
    "print(cartesian_product)"
   ]
  },
  {
   "cell_type": "markdown",
   "id": "5d94d1ef",
   "metadata": {},
   "source": [
    "#### 91. How to create a record array from a regular array? (★★★)"
   ]
  },
  {
   "cell_type": "code",
   "execution_count": null,
   "id": "b1dae380",
   "metadata": {},
   "outputs": [],
   "source": [
    "data = np.array([(1, \"Max\", \"Blue\"),\n",
    "                 (2, \"Kate\", \"Yellow\"),\n",
    "                 (3, \"Yehor\", \"Red\")], dtype=[(\"Id\", \"int8\"), (\"Name\", \"U10\"), (\"Favourite_color\", \"U10\")])\n",
    "record_array = data.view(np.recarray)\n",
    "record_array"
   ]
  },
  {
   "cell_type": "markdown",
   "id": "114ccc36",
   "metadata": {},
   "source": [
    "#### 92. Consider a large vector Z, compute Z to the power of 3 using 3 different methods (★★★)"
   ]
  },
  {
   "cell_type": "code",
   "execution_count": null,
   "id": "877c65d6",
   "metadata": {},
   "outputs": [],
   "source": [
    "Z = np.random.rand(100)\n",
    "result_method1 = np.power(Z, 3)\n",
    "result_method2 = Z * Z * Z\n",
    "result_method3 = Z ** 3\n",
    "print(f\"Vector Z:\\n {Z}\")\n",
    "print(f\"Compute Z to the power of 3 using first method:\\n {result_method1}\")\n",
    "print(f\"Compute Z to the power of 3 using second method:\\n {result_method2}\")\n",
    "print(f\"Compute Z to the power of 3 using third method:\\n {result_method3}\")"
   ]
  },
  {
   "cell_type": "markdown",
   "id": "d614fee4",
   "metadata": {},
   "source": [
    "#### 93. Consider two arrays A and B of shape (8,3) and (2,2). How to find rows of A that contain elements of each row of B regardless of the order of the elements in B? (★★★)"
   ]
  },
  {
   "cell_type": "code",
   "execution_count": null,
   "id": "e6807a84",
   "metadata": {},
   "outputs": [],
   "source": [
    "A = np.random.randint(0, 10, (8, 3))\n",
    "B = np.random.randint(0, 10, (2, 2))\n",
    "result = []\n",
    "print(f\"Array A of shape (8,3):\\n {A}\")\n",
    "print(f\"Array B of shape (2,2):\\n {B}\")\n",
    "for row in B:\n",
    "    result.append(np.isin(A, row))\n",
    "elements = np.all(result, axis=2)\n",
    "for i, elem in enumerate(elements):\n",
    "    print(f\"{i} row: {A[elem]}\")\n"
   ]
  },
  {
   "cell_type": "markdown",
   "id": "b0eedca6",
   "metadata": {},
   "source": [
    "#### 94. Considering a 10x3 matrix, extract rows with unequal values (e.g. [2,2,3]) (★★★)"
   ]
  },
  {
   "cell_type": "code",
   "execution_count": null,
   "id": "fc136ce2",
   "metadata": {},
   "outputs": [],
   "source": [
    "random_matrix = np.random.randint(0, 3, size=(10, 3))\n",
    "unequal_rows = random_matrix[np.logical_and.reduce(random_matrix[:, 1:] != random_matrix[:, :-1], axis=1)]\n",
    "print(f\"Random matrix:\\n {random_matrix}\")\n",
    "print(f\"Rows with unequal values:\\n {unequal_rows}\")"
   ]
  },
  {
   "cell_type": "markdown",
   "id": "a65ec1cf",
   "metadata": {},
   "source": [
    "#### 95. Convert a vector of ints into a matrix binary representation (★★★)"
   ]
  },
  {
   "cell_type": "code",
   "execution_count": null,
   "id": "323cdf4c",
   "metadata": {},
   "outputs": [],
   "source": [
    "nums = np.random.randint(0, 256, 5)\n",
    "print(nums)\n",
    "binary_nums = ((nums.reshape(-1, 1) & (2**np.arange(5))) != 0).astype(int)[:, ::-1]\n",
    "print(binary_nums)"
   ]
  },
  {
   "cell_type": "markdown",
   "id": "75b9397f",
   "metadata": {},
   "source": [
    "#### 96. Given a two dimensional array, how to extract unique rows? (★★★)"
   ]
  },
  {
   "cell_type": "code",
   "execution_count": null,
   "id": "9bb56a47",
   "metadata": {},
   "outputs": [],
   "source": [
    "array_2d = np.array([[1, 2, 3],\n",
    "                     [4, 5, 6],\n",
    "                     [1, 2, 3],\n",
    "                     [7, 8, 9],\n",
    "                     [4, 5, 6]])\n",
    "unique_rows = np.unique(array_2d, axis=0)\n",
    "print(unique_rows)"
   ]
  },
  {
   "cell_type": "markdown",
   "id": "82aaf21b",
   "metadata": {},
   "source": [
    "#### 97. Considering 2 vectors A & B, write the einsum equivalent of inner, outer, sum, and mul function (★★★)"
   ]
  },
  {
   "cell_type": "code",
   "execution_count": null,
   "id": "cedcefd9",
   "metadata": {},
   "outputs": [],
   "source": [
    "A = np.random.rand(7)\n",
    "B = np.random.rand(7)\n",
    "print(\"Inner:\")\n",
    "print(np.einsum('i, i->', A, B))\n",
    "print(\"Outer:\")\n",
    "print(np.einsum('i, j->ij', A, B))\n",
    "print(\"Sum:\")\n",
    "print(np.einsum('i->', A + B))\n",
    "print(\"Mul:\")\n",
    "print(np.einsum('i, i->i', A, B))"
   ]
  },
  {
   "cell_type": "markdown",
   "id": "7741e17f",
   "metadata": {},
   "source": [
    "#### 98. Considering a path described by two vectors (X,Y), how to sample it using equidistant samples (★★★)?"
   ]
  },
  {
   "cell_type": "code",
   "execution_count": null,
   "id": "0b2432fe",
   "metadata": {},
   "outputs": [],
   "source": [
    "X = np.array([1, 3, 5, 7, 9])\n",
    "Y = np.array([0, 2, 4, 6, 8])\n",
    "\n",
    "distance = np.cumsum(np.sqrt(np.diff(X)**2 + np.diff(Y)**2))\n",
    "distance = np.insert(distance, 0, 0)  \n",
    "num_samples = 10\n",
    "equidistant_indices = np.linspace(0, distance.max(), num_samples)\n",
    "equidistant_X = np.interp(equidistant_indices, distance, X)\n",
    "equidistant_Y = np.interp(equidistant_indices, distance, Y)\n",
    "equidistant_samples = np.column_stack((equidistant_X, equidistant_Y))\n",
    "print(equidistant_samples)"
   ]
  },
  {
   "cell_type": "markdown",
   "id": "340d6f36",
   "metadata": {},
   "source": [
    "#### 99. Given an integer n and a 2D array X, select from X the rows which can be interpreted as draws from a multinomial distribution with n degrees, i.e., the rows which only contain integers and which sum to n. (★★★)"
   ]
  },
  {
   "cell_type": "code",
   "execution_count": null,
   "id": "a75323ae",
   "metadata": {},
   "outputs": [],
   "source": [
    "def is_multinomial_row(row, n):\n",
    "    return np.all(np.equal(np.mod(row, 1), 0)) and np.sum(row) == n\n",
    "def select_multinomial_rows(X, n):\n",
    "    return X[np.array([is_multinomial_row(row, n) for row in X])]\n",
    "\n",
    "X = np.array([[1, 2, 3], [4, 5, 6], [1.0, 2.0, 3.0], [0.5, 2.5, 4.0]])\n",
    "n = 6\n",
    "selected_rows = select_multinomial_rows(X, n)\n",
    "print(selected_rows)"
   ]
  },
  {
   "cell_type": "markdown",
   "id": "19721849",
   "metadata": {},
   "source": [
    "#### 100. Compute bootstrapped 95% confidence intervals for the mean of a 1D array X (i.e., resample the elements of an array with replacement N times, compute the mean of each sample, and then compute percentiles over the means). (★★★)"
   ]
  },
  {
   "cell_type": "code",
   "execution_count": null,
   "id": "87309c6f",
   "metadata": {},
   "outputs": [],
   "source": [
    "X = np.array([1, 2, 3, 4, 5, 6, 7, 8, 9, 10])\n",
    "N = 1000\n",
    "means = np.zeros(N)\n",
    "for i in range(N):\n",
    "    sample = np.random.choice(X, size=len(X), replace=True)\n",
    "    means[i] = np.mean(sample)\n",
    "lower = np.percentile(means, 2.5)\n",
    "upper = np.percentile(means, 97.5)\n",
    "print(f'95% confidence interval: ({lower:.2f}, {upper:.2f})')\n"
   ]
  }
 ],
 "metadata": {
  "kernelspec": {
   "display_name": "myenv3.10.12",
   "language": "python",
   "name": "python3"
  },
  "language_info": {
   "codemirror_mode": {
    "name": "ipython",
    "version": 3
   },
   "file_extension": ".py",
   "mimetype": "text/x-python",
   "name": "python",
   "nbconvert_exporter": "python",
   "pygments_lexer": "ipython3",
   "version": "3.10.12"
  }
 },
 "nbformat": 4,
 "nbformat_minor": 5
}
